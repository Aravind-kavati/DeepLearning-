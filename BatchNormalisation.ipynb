{
 "cells": [
  {
   "cell_type": "code",
   "execution_count": 88,
   "id": "c9eff0fa-4543-4c44-b1ff-0cfb5b91804e",
   "metadata": {},
   "outputs": [
    {
     "name": "stdout",
     "output_type": "stream",
     "text": [
      "Requirement already satisfied: tensorflow in /opt/conda/lib/python3.10/site-packages (2.14.0)\n",
      "Requirement already satisfied: typing-extensions>=3.6.6 in /opt/conda/lib/python3.10/site-packages (from tensorflow) (4.4.0)\n",
      "Requirement already satisfied: astunparse>=1.6.0 in /opt/conda/lib/python3.10/site-packages (from tensorflow) (1.6.3)\n",
      "Requirement already satisfied: setuptools in /opt/conda/lib/python3.10/site-packages (from tensorflow) (65.5.1)\n",
      "Requirement already satisfied: termcolor>=1.1.0 in /opt/conda/lib/python3.10/site-packages (from tensorflow) (2.3.0)\n",
      "Requirement already satisfied: packaging in /opt/conda/lib/python3.10/site-packages (from tensorflow) (22.0)\n",
      "Requirement already satisfied: numpy>=1.23.5 in /opt/conda/lib/python3.10/site-packages (from tensorflow) (1.23.5)\n",
      "Requirement already satisfied: six>=1.12.0 in /opt/conda/lib/python3.10/site-packages (from tensorflow) (1.16.0)\n",
      "Requirement already satisfied: keras<2.15,>=2.14.0 in /opt/conda/lib/python3.10/site-packages (from tensorflow) (2.14.0)\n",
      "Requirement already satisfied: tensorboard<2.15,>=2.14 in /opt/conda/lib/python3.10/site-packages (from tensorflow) (2.14.1)\n",
      "Requirement already satisfied: flatbuffers>=23.5.26 in /opt/conda/lib/python3.10/site-packages (from tensorflow) (23.5.26)\n",
      "Requirement already satisfied: gast!=0.5.0,!=0.5.1,!=0.5.2,>=0.2.1 in /opt/conda/lib/python3.10/site-packages (from tensorflow) (0.5.4)\n",
      "Requirement already satisfied: grpcio<2.0,>=1.24.3 in /opt/conda/lib/python3.10/site-packages (from tensorflow) (1.59.0)\n",
      "Requirement already satisfied: h5py>=2.9.0 in /opt/conda/lib/python3.10/site-packages (from tensorflow) (3.7.0)\n",
      "Requirement already satisfied: tensorflow-estimator<2.15,>=2.14.0 in /opt/conda/lib/python3.10/site-packages (from tensorflow) (2.14.0)\n",
      "Requirement already satisfied: opt-einsum>=2.3.2 in /opt/conda/lib/python3.10/site-packages (from tensorflow) (3.3.0)\n",
      "Requirement already satisfied: absl-py>=1.0.0 in /opt/conda/lib/python3.10/site-packages (from tensorflow) (2.0.0)\n",
      "Requirement already satisfied: ml-dtypes==0.2.0 in /opt/conda/lib/python3.10/site-packages (from tensorflow) (0.2.0)\n",
      "Requirement already satisfied: wrapt<1.15,>=1.11.0 in /opt/conda/lib/python3.10/site-packages (from tensorflow) (1.14.1)\n",
      "Requirement already satisfied: google-pasta>=0.1.1 in /opt/conda/lib/python3.10/site-packages (from tensorflow) (0.2.0)\n",
      "Requirement already satisfied: libclang>=13.0.0 in /opt/conda/lib/python3.10/site-packages (from tensorflow) (16.0.6)\n",
      "Requirement already satisfied: tensorflow-io-gcs-filesystem>=0.23.1 in /opt/conda/lib/python3.10/site-packages (from tensorflow) (0.34.0)\n",
      "Requirement already satisfied: protobuf!=4.21.0,!=4.21.1,!=4.21.2,!=4.21.3,!=4.21.4,!=4.21.5,<5.0.0dev,>=3.20.3 in /opt/conda/lib/python3.10/site-packages (from tensorflow) (4.21.11)\n",
      "Requirement already satisfied: wheel<1.0,>=0.23.0 in /opt/conda/lib/python3.10/site-packages (from astunparse>=1.6.0->tensorflow) (0.38.4)\n",
      "Requirement already satisfied: requests<3,>=2.21.0 in /opt/conda/lib/python3.10/site-packages (from tensorboard<2.15,>=2.14->tensorflow) (2.28.1)\n",
      "Requirement already satisfied: werkzeug>=1.0.1 in /opt/conda/lib/python3.10/site-packages (from tensorboard<2.15,>=2.14->tensorflow) (3.0.0)\n",
      "Requirement already satisfied: tensorboard-data-server<0.8.0,>=0.7.0 in /opt/conda/lib/python3.10/site-packages (from tensorboard<2.15,>=2.14->tensorflow) (0.7.1)\n",
      "Requirement already satisfied: google-auth-oauthlib<1.1,>=0.5 in /opt/conda/lib/python3.10/site-packages (from tensorboard<2.15,>=2.14->tensorflow) (1.0.0)\n",
      "Requirement already satisfied: google-auth<3,>=1.6.3 in /opt/conda/lib/python3.10/site-packages (from tensorboard<2.15,>=2.14->tensorflow) (2.23.2)\n",
      "Requirement already satisfied: markdown>=2.6.8 in /opt/conda/lib/python3.10/site-packages (from tensorboard<2.15,>=2.14->tensorflow) (3.4.4)\n",
      "Requirement already satisfied: rsa<5,>=3.1.4 in /opt/conda/lib/python3.10/site-packages (from google-auth<3,>=1.6.3->tensorboard<2.15,>=2.14->tensorflow) (4.9)\n",
      "Requirement already satisfied: pyasn1-modules>=0.2.1 in /opt/conda/lib/python3.10/site-packages (from google-auth<3,>=1.6.3->tensorboard<2.15,>=2.14->tensorflow) (0.3.0)\n",
      "Requirement already satisfied: cachetools<6.0,>=2.0.0 in /opt/conda/lib/python3.10/site-packages (from google-auth<3,>=1.6.3->tensorboard<2.15,>=2.14->tensorflow) (5.3.1)\n",
      "Requirement already satisfied: requests-oauthlib>=0.7.0 in /opt/conda/lib/python3.10/site-packages (from google-auth-oauthlib<1.1,>=0.5->tensorboard<2.15,>=2.14->tensorflow) (1.3.1)\n",
      "Requirement already satisfied: certifi>=2017.4.17 in /opt/conda/lib/python3.10/site-packages (from requests<3,>=2.21.0->tensorboard<2.15,>=2.14->tensorflow) (2022.12.7)\n",
      "Requirement already satisfied: idna<4,>=2.5 in /opt/conda/lib/python3.10/site-packages (from requests<3,>=2.21.0->tensorboard<2.15,>=2.14->tensorflow) (3.4)\n",
      "Requirement already satisfied: charset-normalizer<3,>=2 in /opt/conda/lib/python3.10/site-packages (from requests<3,>=2.21.0->tensorboard<2.15,>=2.14->tensorflow) (2.1.1)\n",
      "Requirement already satisfied: urllib3<1.27,>=1.21.1 in /opt/conda/lib/python3.10/site-packages (from requests<3,>=2.21.0->tensorboard<2.15,>=2.14->tensorflow) (1.26.13)\n",
      "Requirement already satisfied: MarkupSafe>=2.1.1 in /opt/conda/lib/python3.10/site-packages (from werkzeug>=1.0.1->tensorboard<2.15,>=2.14->tensorflow) (2.1.1)\n",
      "Requirement already satisfied: pyasn1<0.6.0,>=0.4.6 in /opt/conda/lib/python3.10/site-packages (from pyasn1-modules>=0.2.1->google-auth<3,>=1.6.3->tensorboard<2.15,>=2.14->tensorflow) (0.5.0)\n",
      "Requirement already satisfied: oauthlib>=3.0.0 in /opt/conda/lib/python3.10/site-packages (from requests-oauthlib>=0.7.0->google-auth-oauthlib<1.1,>=0.5->tensorboard<2.15,>=2.14->tensorflow) (3.2.2)\n"
     ]
    }
   ],
   "source": [
    "!pip install tensorflow"
   ]
  },
  {
   "cell_type": "code",
   "execution_count": 95,
   "id": "918ab950-88db-4c21-bf57-51485535d084",
   "metadata": {},
   "outputs": [],
   "source": [
    "import tensorflow as tf"
   ]
  },
  {
   "cell_type": "code",
   "execution_count": 96,
   "id": "ae94336f-18e1-4242-9f0f-5d0765637442",
   "metadata": {},
   "outputs": [],
   "source": [
    "import numpy as np\n",
    "import pandas as pd\n",
    "import seaborn as sns\n",
    "import matplotlib.pyplot as plt"
   ]
  },
  {
   "cell_type": "code",
   "execution_count": 97,
   "id": "dcdab907-7c1e-45c0-96fa-b75d65cb68b8",
   "metadata": {},
   "outputs": [
    {
     "data": {
      "text/plain": [
       "'2.14.0'"
      ]
     },
     "execution_count": 97,
     "metadata": {},
     "output_type": "execute_result"
    }
   ],
   "source": [
    "tf.__version__"
   ]
  },
  {
   "cell_type": "code",
   "execution_count": 98,
   "id": "bc5e318e-cde8-4f64-a872-d7c9f96f0355",
   "metadata": {},
   "outputs": [],
   "source": [
    "mnist=tf.keras.datasets.mnist"
   ]
  },
  {
   "cell_type": "code",
   "execution_count": 99,
   "id": "7062d4b0-82fa-48fa-8536-6afe331e00e9",
   "metadata": {},
   "outputs": [
    {
     "data": {
      "text/plain": [
       "<module 'keras.api._v2.keras.datasets.mnist' from '/opt/conda/lib/python3.10/site-packages/keras/api/_v2/keras/datasets/mnist/__init__.py'>"
      ]
     },
     "execution_count": 99,
     "metadata": {},
     "output_type": "execute_result"
    }
   ],
   "source": [
    "mnist"
   ]
  },
  {
   "cell_type": "code",
   "execution_count": 100,
   "id": "014a082a-30d8-4986-b0a8-6d2f1843bec4",
   "metadata": {},
   "outputs": [],
   "source": [
    "(X_train_full,Y_train_full),(X_test,Y_test)=mnist.load_data()"
   ]
  },
  {
   "cell_type": "code",
   "execution_count": 101,
   "id": "e411e3c9-00d6-41a0-a7d3-ca0c96768d48",
   "metadata": {},
   "outputs": [
    {
     "data": {
      "text/plain": [
       "((60000, 28, 28), (60000,))"
      ]
     },
     "execution_count": 101,
     "metadata": {},
     "output_type": "execute_result"
    }
   ],
   "source": [
    "X_train_full.shape,Y_train_full.shape"
   ]
  },
  {
   "cell_type": "code",
   "execution_count": 102,
   "id": "4e1d73ec-2ac7-4517-a75c-01560ff73d59",
   "metadata": {},
   "outputs": [
    {
     "data": {
      "text/plain": [
       "((10000, 28, 28), (10000,))"
      ]
     },
     "execution_count": 102,
     "metadata": {},
     "output_type": "execute_result"
    }
   ],
   "source": [
    "X_test.shape,Y_test.shape"
   ]
  },
  {
   "cell_type": "code",
   "execution_count": 103,
   "id": "88eaa87f-1b69-4e4b-b091-8a4cf44e698f",
   "metadata": {},
   "outputs": [],
   "source": [
    "X_train,X_valid=X_train_full[5000:]/255,X_train_full[0:5000]/255"
   ]
  },
  {
   "cell_type": "code",
   "execution_count": 104,
   "id": "43f533d7-6e74-47b9-83dd-7a67bfcf78f3",
   "metadata": {},
   "outputs": [],
   "source": [
    "Y_train,Y_valid=Y_train_full[5000:],Y_train_full[0:5000]"
   ]
  },
  {
   "cell_type": "code",
   "execution_count": 105,
   "id": "2fac0791-a9ed-49a5-ba76-4b9216aa9510",
   "metadata": {},
   "outputs": [
    {
     "data": {
      "text/plain": [
       "((55000, 28, 28), (5000, 28, 28))"
      ]
     },
     "execution_count": 105,
     "metadata": {},
     "output_type": "execute_result"
    }
   ],
   "source": [
    "X_train.shape,X_valid.shape"
   ]
  },
  {
   "cell_type": "code",
   "execution_count": 106,
   "id": "0369c1d1-831a-4246-bdc9-90374a2ca129",
   "metadata": {},
   "outputs": [
    {
     "data": {
      "text/plain": [
       "(55000,)"
      ]
     },
     "execution_count": 106,
     "metadata": {},
     "output_type": "execute_result"
    }
   ],
   "source": [
    "Y_train.shape"
   ]
  },
  {
   "cell_type": "code",
   "execution_count": 107,
   "id": "c9b87856-5c75-4cc5-b8a6-f29c237928fc",
   "metadata": {},
   "outputs": [],
   "source": [
    "valid=(X_valid,Y_valid)\n"
   ]
  },
  {
   "cell_type": "code",
   "execution_count": 108,
   "id": "3b327689-0ee5-4790-b348-44eb1df12ed6",
   "metadata": {},
   "outputs": [
    {
     "data": {
      "text/plain": [
       "<matplotlib.image.AxesImage at 0x7f9ea5835d80>"
      ]
     },
     "execution_count": 108,
     "metadata": {},
     "output_type": "execute_result"
    },
    {
     "data": {
      "image/png": "[encoded data removed]",
      "text/plain": [
       "<Figure size 640x480 with 1 Axes>"
      ]
     },
     "metadata": {},
     "output_type": "display_data"
    }
   ],
   "source": [
    "plt.imshow(X_train[0])"
   ]
  },
  {
   "cell_type": "code",
   "execution_count": 109,
   "id": "dc885e76-3930-4b0b-98aa-645c809f475f",
   "metadata": {},
   "outputs": [],
   "source": [
    "layers=[tf.keras.layers.Flatten(input_shape=[28,28],name=\"Input_layer\"),\n",
    "        tf.keras.layers.Dense(300,activation=\"relu\",name=\"Layer2\"),\n",
    "        tf.keras.layers.BatchNormalization(),\n",
    "        tf.keras.layers.Dense(100,activation=\"relu\",name=\"Layer3\"),\n",
    "        tf.keras.layers.BatchNormalization(),\n",
    "        tf.keras.layers.Dense(10,activation=\"softmax\",name=\"output\")]"
   ]
  },
  {
   "cell_type": "code",
   "execution_count": 110,
   "id": "8d8b219d-5cf4-4a01-b524-272a323a5c28",
   "metadata": {},
   "outputs": [],
   "source": [
    "model_clf=tf.keras.models.Sequential(layers)"
   ]
  },
  {
   "cell_type": "code",
   "execution_count": 111,
   "id": "8f65e7b1-effb-4a42-8a2f-d57e44534a3d",
   "metadata": {},
   "outputs": [
    {
     "name": "stdout",
     "output_type": "stream",
     "text": [
      "Model: \"sequential_4\"\n",
      "_________________________________________________________________\n",
      " Layer (type)                Output Shape              Param #   \n",
      "=================================================================\n",
      " Input_layer (Flatten)       (None, 784)               0         \n",
      "                                                                 \n",
      " Layer2 (Dense)              (None, 300)               235500    \n",
      "                                                                 \n",
      " batch_normalization_8 (Bat  (None, 300)               1200      \n",
      " chNormalization)                                                \n",
      "                                                                 \n",
      " Layer3 (Dense)              (None, 100)               30100     \n",
      "                                                                 \n",
      " batch_normalization_9 (Bat  (None, 100)               400       \n",
      " chNormalization)                                                \n",
      "                                                                 \n",
      " output (Dense)              (None, 10)                1010      \n",
      "                                                                 \n",
      "=================================================================\n",
      "Total params: 268210 (1.02 MB)\n",
      "Trainable params: 267410 (1.02 MB)\n",
      "Non-trainable params: 800 (3.12 KB)\n",
      "_________________________________________________________________\n"
     ]
    }
   ],
   "source": [
    "model_clf.summary()"
   ]
  },
  {
   "cell_type": "code",
   "execution_count": 112,
   "id": "e9d8bc94-3d6e-45e9-8ea3-31a6ff2fa981",
   "metadata": {},
   "outputs": [],
   "source": [
    "model_clf.compile(loss=\"sparse_categorical_crossentropy\", optimizer=\"SGD\", metrics=[\"accuracy\"])"
   ]
  },
  {
   "cell_type": "code",
   "execution_count": 113,
   "id": "cee37688-3c4a-41ff-bcf2-46ee6e9ff891",
   "metadata": {},
   "outputs": [],
   "source": [
    "epochs=30\n",
    "valid=(X_valid,Y_valid)"
   ]
  },
  {
   "cell_type": "code",
   "execution_count": 114,
   "id": "ac19d95a-25c7-4f07-b607-51f2041b1047",
   "metadata": {},
   "outputs": [
    {
     "name": "stdout",
     "output_type": "stream",
     "text": [
      "Epoch 1/30\n",
      "1719/1719 [==============================] - 8s 4ms/step - loss: 0.3299 - accuracy: 0.9013 - val_loss: 0.1485 - val_accuracy: 0.9590\n",
      "Epoch 2/30\n",
      "1719/1719 [==============================] - 7s 4ms/step - loss: 0.1605 - accuracy: 0.9530 - val_loss: 0.1125 - val_accuracy: 0.9688\n",
      "Epoch 3/30\n",
      "1719/1719 [==============================] - 7s 4ms/step - loss: 0.1182 - accuracy: 0.9661 - val_loss: 0.1005 - val_accuracy: 0.9700\n",
      "Epoch 4/30\n",
      "1719/1719 [==============================] - 7s 4ms/step - loss: 0.0931 - accuracy: 0.9727 - val_loss: 0.0898 - val_accuracy: 0.9730\n",
      "Epoch 5/30\n",
      "1719/1719 [==============================] - 7s 4ms/step - loss: 0.0757 - accuracy: 0.9781 - val_loss: 0.0866 - val_accuracy: 0.9750\n",
      "Epoch 6/30\n",
      "1719/1719 [==============================] - 7s 4ms/step - loss: 0.0649 - accuracy: 0.9816 - val_loss: 0.0824 - val_accuracy: 0.9742\n",
      "Epoch 7/30\n",
      "1719/1719 [==============================] - 7s 4ms/step - loss: 0.0554 - accuracy: 0.9834 - val_loss: 0.0774 - val_accuracy: 0.9760\n",
      "Epoch 8/30\n",
      "1719/1719 [==============================] - 7s 4ms/step - loss: 0.0475 - accuracy: 0.9867 - val_loss: 0.0765 - val_accuracy: 0.9762\n",
      "Epoch 9/30\n",
      "1719/1719 [==============================] - 7s 4ms/step - loss: 0.0411 - accuracy: 0.9885 - val_loss: 0.0759 - val_accuracy: 0.9780\n",
      "Epoch 10/30\n",
      "1719/1719 [==============================] - 7s 4ms/step - loss: 0.0352 - accuracy: 0.9900 - val_loss: 0.0761 - val_accuracy: 0.9770\n",
      "Epoch 11/30\n",
      "1719/1719 [==============================] - 7s 4ms/step - loss: 0.0308 - accuracy: 0.9919 - val_loss: 0.0770 - val_accuracy: 0.9768\n",
      "Epoch 12/30\n",
      "1719/1719 [==============================] - 7s 4ms/step - loss: 0.0284 - accuracy: 0.9923 - val_loss: 0.0769 - val_accuracy: 0.9758\n",
      "Epoch 13/30\n",
      "1719/1719 [==============================] - 6s 4ms/step - loss: 0.0249 - accuracy: 0.9936 - val_loss: 0.0794 - val_accuracy: 0.9766\n",
      "Epoch 14/30\n",
      "1719/1719 [==============================] - 7s 4ms/step - loss: 0.0217 - accuracy: 0.9944 - val_loss: 0.0756 - val_accuracy: 0.9772\n",
      "Epoch 15/30\n",
      "1719/1719 [==============================] - 7s 4ms/step - loss: 0.0211 - accuracy: 0.9946 - val_loss: 0.0782 - val_accuracy: 0.9784\n",
      "Epoch 16/30\n",
      "1719/1719 [==============================] - 7s 4ms/step - loss: 0.0189 - accuracy: 0.9951 - val_loss: 0.0809 - val_accuracy: 0.9776\n",
      "Epoch 17/30\n",
      "1719/1719 [==============================] - 7s 4ms/step - loss: 0.0176 - accuracy: 0.9955 - val_loss: 0.0760 - val_accuracy: 0.9772\n",
      "Epoch 18/30\n",
      "1719/1719 [==============================] - 7s 4ms/step - loss: 0.0157 - accuracy: 0.9961 - val_loss: 0.0792 - val_accuracy: 0.9784\n",
      "Epoch 19/30\n",
      "1719/1719 [==============================] - 7s 4ms/step - loss: 0.0145 - accuracy: 0.9967 - val_loss: 0.0770 - val_accuracy: 0.9798\n",
      "Epoch 20/30\n",
      "1719/1719 [==============================] - 6s 4ms/step - loss: 0.0138 - accuracy: 0.9965 - val_loss: 0.0768 - val_accuracy: 0.9798\n",
      "Epoch 21/30\n",
      "1719/1719 [==============================] - 7s 4ms/step - loss: 0.0122 - accuracy: 0.9972 - val_loss: 0.0807 - val_accuracy: 0.9794\n",
      "Epoch 22/30\n",
      "1719/1719 [==============================] - 7s 4ms/step - loss: 0.0120 - accuracy: 0.9973 - val_loss: 0.0775 - val_accuracy: 0.9810\n",
      "Epoch 23/30\n",
      "1719/1719 [==============================] - 7s 4ms/step - loss: 0.0104 - accuracy: 0.9979 - val_loss: 0.0825 - val_accuracy: 0.9776\n",
      "Epoch 24/30\n",
      "1719/1719 [==============================] - 7s 4ms/step - loss: 0.0098 - accuracy: 0.9980 - val_loss: 0.0816 - val_accuracy: 0.9790\n",
      "Epoch 25/30\n",
      "1719/1719 [==============================] - 7s 4ms/step - loss: 0.0092 - accuracy: 0.9981 - val_loss: 0.0848 - val_accuracy: 0.9782\n",
      "Epoch 26/30\n",
      "1719/1719 [==============================] - 7s 4ms/step - loss: 0.0089 - accuracy: 0.9981 - val_loss: 0.0816 - val_accuracy: 0.9786\n",
      "Epoch 27/30\n",
      "1719/1719 [==============================] - 6s 4ms/step - loss: 0.0088 - accuracy: 0.9981 - val_loss: 0.0791 - val_accuracy: 0.9784\n",
      "Epoch 28/30\n",
      "1719/1719 [==============================] - 7s 4ms/step - loss: 0.0083 - accuracy: 0.9982 - val_loss: 0.0804 - val_accuracy: 0.9790\n",
      "Epoch 29/30\n",
      "1719/1719 [==============================] - 7s 4ms/step - loss: 0.0090 - accuracy: 0.9980 - val_loss: 0.0804 - val_accuracy: 0.9792\n",
      "Epoch 30/30\n",
      "1719/1719 [==============================] - 7s 4ms/step - loss: 0.0074 - accuracy: 0.9985 - val_loss: 0.0833 - val_accuracy: 0.9782\n"
     ]
    }
   ],
   "source": [
    "history=model_clf.fit(X_train,Y_train,epochs=30,validation_data=valid)"
   ]
  },
  {
   "cell_type": "code",
   "execution_count": 115,
   "id": "2df5a563-c4ac-4a55-a3e9-070e18753892",
   "metadata": {},
   "outputs": [],
   "source": [
    "data=pd.DataFrame(history.history)"
   ]
  },
  {
   "cell_type": "code",
   "execution_count": 116,
   "id": "856fc1ae-122a-4149-ada9-983a5b1cf021",
   "metadata": {},
   "outputs": [
    {
     "data": {
      "text/html": [
       "<div>\n",
       "<style scoped>\n",
       "    .dataframe tbody tr th:only-of-type {\n",
       "        vertical-align: middle;\n",
       "    }\n",
       "\n",
       "    .dataframe tbody tr th {\n",
       "        vertical-align: top;\n",
       "    }\n",
       "\n",
       "    .dataframe thead th {\n",
       "        text-align: right;\n",
       "    }\n",
       "</style>\n",
       "<table border=\"1\" class=\"dataframe\">\n",
       "  <thead>\n",
       "    <tr style=\"text-align: right;\">\n",
       "      <th></th>\n",
       "      <th>loss</th>\n",
       "      <th>accuracy</th>\n",
       "      <th>val_loss</th>\n",
       "      <th>val_accuracy</th>\n",
       "    </tr>\n",
       "  </thead>\n",
       "  <tbody>\n",
       "    <tr>\n",
       "      <th>0</th>\n",
       "      <td>0.329886</td>\n",
       "      <td>0.901255</td>\n",
       "      <td>0.148466</td>\n",
       "      <td>0.9590</td>\n",
       "    </tr>\n",
       "    <tr>\n",
       "      <th>1</th>\n",
       "      <td>0.160529</td>\n",
       "      <td>0.952982</td>\n",
       "      <td>0.112548</td>\n",
       "      <td>0.9688</td>\n",
       "    </tr>\n",
       "    <tr>\n",
       "      <th>2</th>\n",
       "      <td>0.118161</td>\n",
       "      <td>0.966055</td>\n",
       "      <td>0.100454</td>\n",
       "      <td>0.9700</td>\n",
       "    </tr>\n",
       "    <tr>\n",
       "      <th>3</th>\n",
       "      <td>0.093128</td>\n",
       "      <td>0.972655</td>\n",
       "      <td>0.089844</td>\n",
       "      <td>0.9730</td>\n",
       "    </tr>\n",
       "    <tr>\n",
       "      <th>4</th>\n",
       "      <td>0.075664</td>\n",
       "      <td>0.978073</td>\n",
       "      <td>0.086602</td>\n",
       "      <td>0.9750</td>\n",
       "    </tr>\n",
       "    <tr>\n",
       "      <th>5</th>\n",
       "      <td>0.064896</td>\n",
       "      <td>0.981618</td>\n",
       "      <td>0.082379</td>\n",
       "      <td>0.9742</td>\n",
       "    </tr>\n",
       "    <tr>\n",
       "      <th>6</th>\n",
       "      <td>0.055405</td>\n",
       "      <td>0.983436</td>\n",
       "      <td>0.077416</td>\n",
       "      <td>0.9760</td>\n",
       "    </tr>\n",
       "    <tr>\n",
       "      <th>7</th>\n",
       "      <td>0.047501</td>\n",
       "      <td>0.986691</td>\n",
       "      <td>0.076454</td>\n",
       "      <td>0.9762</td>\n",
       "    </tr>\n",
       "    <tr>\n",
       "      <th>8</th>\n",
       "      <td>0.041097</td>\n",
       "      <td>0.988491</td>\n",
       "      <td>0.075914</td>\n",
       "      <td>0.9780</td>\n",
       "    </tr>\n",
       "    <tr>\n",
       "      <th>9</th>\n",
       "      <td>0.035227</td>\n",
       "      <td>0.990018</td>\n",
       "      <td>0.076081</td>\n",
       "      <td>0.9770</td>\n",
       "    </tr>\n",
       "    <tr>\n",
       "      <th>10</th>\n",
       "      <td>0.030805</td>\n",
       "      <td>0.991873</td>\n",
       "      <td>0.077007</td>\n",
       "      <td>0.9768</td>\n",
       "    </tr>\n",
       "    <tr>\n",
       "      <th>11</th>\n",
       "      <td>0.028389</td>\n",
       "      <td>0.992291</td>\n",
       "      <td>0.076901</td>\n",
       "      <td>0.9758</td>\n",
       "    </tr>\n",
       "    <tr>\n",
       "      <th>12</th>\n",
       "      <td>0.024894</td>\n",
       "      <td>0.993600</td>\n",
       "      <td>0.079364</td>\n",
       "      <td>0.9766</td>\n",
       "    </tr>\n",
       "    <tr>\n",
       "      <th>13</th>\n",
       "      <td>0.021701</td>\n",
       "      <td>0.994418</td>\n",
       "      <td>0.075583</td>\n",
       "      <td>0.9772</td>\n",
       "    </tr>\n",
       "    <tr>\n",
       "      <th>14</th>\n",
       "      <td>0.021121</td>\n",
       "      <td>0.994564</td>\n",
       "      <td>0.078174</td>\n",
       "      <td>0.9784</td>\n",
       "    </tr>\n",
       "    <tr>\n",
       "      <th>15</th>\n",
       "      <td>0.018915</td>\n",
       "      <td>0.995091</td>\n",
       "      <td>0.080876</td>\n",
       "      <td>0.9776</td>\n",
       "    </tr>\n",
       "    <tr>\n",
       "      <th>16</th>\n",
       "      <td>0.017580</td>\n",
       "      <td>0.995509</td>\n",
       "      <td>0.076023</td>\n",
       "      <td>0.9772</td>\n",
       "    </tr>\n",
       "    <tr>\n",
       "      <th>17</th>\n",
       "      <td>0.015650</td>\n",
       "      <td>0.996127</td>\n",
       "      <td>0.079216</td>\n",
       "      <td>0.9784</td>\n",
       "    </tr>\n",
       "    <tr>\n",
       "      <th>18</th>\n",
       "      <td>0.014538</td>\n",
       "      <td>0.996727</td>\n",
       "      <td>0.077039</td>\n",
       "      <td>0.9798</td>\n",
       "    </tr>\n",
       "    <tr>\n",
       "      <th>19</th>\n",
       "      <td>0.013758</td>\n",
       "      <td>0.996527</td>\n",
       "      <td>0.076795</td>\n",
       "      <td>0.9798</td>\n",
       "    </tr>\n",
       "    <tr>\n",
       "      <th>20</th>\n",
       "      <td>0.012233</td>\n",
       "      <td>0.997236</td>\n",
       "      <td>0.080715</td>\n",
       "      <td>0.9794</td>\n",
       "    </tr>\n",
       "    <tr>\n",
       "      <th>21</th>\n",
       "      <td>0.012031</td>\n",
       "      <td>0.997327</td>\n",
       "      <td>0.077542</td>\n",
       "      <td>0.9810</td>\n",
       "    </tr>\n",
       "    <tr>\n",
       "      <th>22</th>\n",
       "      <td>0.010403</td>\n",
       "      <td>0.997873</td>\n",
       "      <td>0.082542</td>\n",
       "      <td>0.9776</td>\n",
       "    </tr>\n",
       "    <tr>\n",
       "      <th>23</th>\n",
       "      <td>0.009772</td>\n",
       "      <td>0.998000</td>\n",
       "      <td>0.081600</td>\n",
       "      <td>0.9790</td>\n",
       "    </tr>\n",
       "    <tr>\n",
       "      <th>24</th>\n",
       "      <td>0.009220</td>\n",
       "      <td>0.998091</td>\n",
       "      <td>0.084815</td>\n",
       "      <td>0.9782</td>\n",
       "    </tr>\n",
       "    <tr>\n",
       "      <th>25</th>\n",
       "      <td>0.008888</td>\n",
       "      <td>0.998055</td>\n",
       "      <td>0.081570</td>\n",
       "      <td>0.9786</td>\n",
       "    </tr>\n",
       "    <tr>\n",
       "      <th>26</th>\n",
       "      <td>0.008783</td>\n",
       "      <td>0.998091</td>\n",
       "      <td>0.079065</td>\n",
       "      <td>0.9784</td>\n",
       "    </tr>\n",
       "    <tr>\n",
       "      <th>27</th>\n",
       "      <td>0.008342</td>\n",
       "      <td>0.998200</td>\n",
       "      <td>0.080403</td>\n",
       "      <td>0.9790</td>\n",
       "    </tr>\n",
       "    <tr>\n",
       "      <th>28</th>\n",
       "      <td>0.008983</td>\n",
       "      <td>0.998036</td>\n",
       "      <td>0.080442</td>\n",
       "      <td>0.9792</td>\n",
       "    </tr>\n",
       "    <tr>\n",
       "      <th>29</th>\n",
       "      <td>0.007408</td>\n",
       "      <td>0.998527</td>\n",
       "      <td>0.083298</td>\n",
       "      <td>0.9782</td>\n",
       "    </tr>\n",
       "  </tbody>\n",
       "</table>\n",
       "</div>"
      ],
      "text/plain": [
       "        loss  accuracy  val_loss  val_accuracy\n",
       "0   0.329886  0.901255  0.148466        0.9590\n",
       "1   0.160529  0.952982  0.112548        0.9688\n",
       "2   0.118161  0.966055  0.100454        0.9700\n",
       "3   0.093128  0.972655  0.089844        0.9730\n",
       "4   0.075664  0.978073  0.086602        0.9750\n",
       "5   0.064896  0.981618  0.082379        0.9742\n",
       "6   0.055405  0.983436  0.077416        0.9760\n",
       "7   0.047501  0.986691  0.076454        0.9762\n",
       "8   0.041097  0.988491  0.075914        0.9780\n",
       "9   0.035227  0.990018  0.076081        0.9770\n",
       "10  0.030805  0.991873  0.077007        0.9768\n",
       "11  0.028389  0.992291  0.076901        0.9758\n",
       "12  0.024894  0.993600  0.079364        0.9766\n",
       "13  0.021701  0.994418  0.075583        0.9772\n",
       "14  0.021121  0.994564  0.078174        0.9784\n",
       "15  0.018915  0.995091  0.080876        0.9776\n",
       "16  0.017580  0.995509  0.076023        0.9772\n",
       "17  0.015650  0.996127  0.079216        0.9784\n",
       "18  0.014538  0.996727  0.077039        0.9798\n",
       "19  0.013758  0.996527  0.076795        0.9798\n",
       "20  0.012233  0.997236  0.080715        0.9794\n",
       "21  0.012031  0.997327  0.077542        0.9810\n",
       "22  0.010403  0.997873  0.082542        0.9776\n",
       "23  0.009772  0.998000  0.081600        0.9790\n",
       "24  0.009220  0.998091  0.084815        0.9782\n",
       "25  0.008888  0.998055  0.081570        0.9786\n",
       "26  0.008783  0.998091  0.079065        0.9784\n",
       "27  0.008342  0.998200  0.080403        0.9790\n",
       "28  0.008983  0.998036  0.080442        0.9792\n",
       "29  0.007408  0.998527  0.083298        0.9782"
      ]
     },
     "execution_count": 116,
     "metadata": {},
     "output_type": "execute_result"
    }
   ],
   "source": [
    "data"
   ]
  },
  {
   "cell_type": "code",
   "execution_count": 117,
   "id": "935c4594-ff55-4077-8c3b-f19d4dbdecd2",
   "metadata": {},
   "outputs": [
    {
     "data": {
      "text/plain": [
       "<AxesSubplot: >"
      ]
     },
     "execution_count": 117,
     "metadata": {},
     "output_type": "execute_result"
    },
    {
     "data": {
      "image/png": "[encoded data removed]",
      "text/plain": [
       "<Figure size 640x480 with 1 Axes>"
      ]
     },
     "metadata": {},
     "output_type": "display_data"
    }
   ],
   "source": [
    "pd.DataFrame(history.history).plot()"
   ]
  },
  {
   "cell_type": "code",
   "execution_count": 121,
   "id": "0e2ac05a-4a01-4528-9e40-016f1df0f094",
   "metadata": {},
   "outputs": [
    {
     "name": "stdout",
     "output_type": "stream",
     "text": [
      "313/313 [==============================] - 1s 2ms/step - loss: 0.0760 - accuracy: 0.9785\n"
     ]
    },
    {
     "data": {
      "text/plain": [
       "[0.076023168861866, 0.9785000085830688]"
      ]
     },
     "execution_count": 121,
     "metadata": {},
     "output_type": "execute_result"
    }
   ],
   "source": [
    "X_test=X_test/255\n",
    "model_clf.evaluate(X_test,Y_test)"
   ]
  },
  {
   "cell_type": "code",
   "execution_count": 124,
   "id": "062cf180-3c94-4abc-84f7-273f898ba81f",
   "metadata": {},
   "outputs": [],
   "source": [
    "X_new=X_test[:3]\n",
    "actual=Y_test[:3]"
   ]
  },
  {
   "cell_type": "code",
   "execution_count": 125,
   "id": "448dccbd-92b5-46c5-b94b-87a36b8d7caa",
   "metadata": {},
   "outputs": [
    {
     "name": "stdout",
     "output_type": "stream",
     "text": [
      "1/1 [==============================] - 0s 156ms/step\n"
     ]
    }
   ],
   "source": [
    "Y_predict=model_clf.predict(X_new)"
   ]
  },
  {
   "cell_type": "code",
   "execution_count": 126,
   "id": "b636c8dd-256d-485e-85d9-026af7ed4048",
   "metadata": {},
   "outputs": [
    {
     "data": {
      "text/plain": [
       "array([[0., 0., 0., 0., 0., 0., 0., 1., 0., 0.],\n",
       "       [0., 0., 1., 0., 0., 0., 0., 0., 0., 0.],\n",
       "       [0., 1., 0., 0., 0., 0., 0., 0., 0., 0.]], dtype=float32)"
      ]
     },
     "execution_count": 126,
     "metadata": {},
     "output_type": "execute_result"
    }
   ],
   "source": [
    "Y_predict.round(2)"
   ]
  },
  {
   "cell_type": "code",
   "execution_count": null,
   "id": "0bc63b60-a289-4426-b7ae-46e2c5dfb684",
   "metadata": {},
   "outputs": [],
   "source": []
  }
 ],
 "metadata": {
  "kernelspec": {
   "display_name": "Python 3 (ipykernel)",
   "language": "python",
   "name": "python3"
  },
  "language_info": {
   "codemirror_mode": {
    "name": "ipython",
    "version": 3
   },
   "file_extension": ".py",
   "mimetype": "text/x-python",
   "name": "python",
   "nbconvert_exporter": "python",
   "pygments_lexer": "ipython3",
   "version": "3.10.8"
  }
 },
 "nbformat": 4,
 "nbformat_minor": 5
}
